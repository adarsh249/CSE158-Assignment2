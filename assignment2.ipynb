{
 "cells": [
  {
   "cell_type": "code",
   "execution_count": 86,
   "metadata": {},
   "outputs": [],
   "source": [
    "import csv\n",
    "from sklearn import linear_model\n",
    "import numpy\n",
    "import matplotlib.pyplot as plt\n",
    "from collections import Counter\n",
    "from collections import defaultdict\n",
    "from datetime import datetime\n",
    "import math\n",
    "import tensorflow as tf\n",
    "import string\n",
    "from nltk.stem.porter import *\n",
    "from gensim.models import Word2Vec"
   ]
  },
  {
   "cell_type": "code",
   "execution_count": 3,
   "metadata": {},
   "outputs": [],
   "source": [
    "dataset = []\n",
    "with open('../assignment2data/archive/RAW_interactions.csv', 'r') as file:\n",
    "    reader = csv.DictReader(file)\n",
    "    for line in reader:\n",
    "        dataset.append(line)"
   ]
  },
  {
   "cell_type": "code",
   "execution_count": 4,
   "metadata": {},
   "outputs": [
    {
     "data": {
      "text/plain": [
       "{'user_id': '38094',\n",
       " 'recipe_id': '40893',\n",
       " 'date': '2003-02-17',\n",
       " 'rating': '4',\n",
       " 'review': 'Great with a salad. Cooked on top of stove for 15 minutes.Added a shake of cayenne and a pinch of salt.  Used low fat sour cream.  Thanks.'}"
      ]
     },
     "execution_count": 4,
     "metadata": {},
     "output_type": "execute_result"
    }
   ],
   "source": [
    "dataset[0]"
   ]
  },
  {
   "cell_type": "code",
   "execution_count": 5,
   "metadata": {},
   "outputs": [],
   "source": [
    "#Part 1"
   ]
  },
  {
   "cell_type": "code",
   "execution_count": 6,
   "metadata": {},
   "outputs": [
    {
     "data": {
      "text/plain": [
       "Counter({5: 816364, 4: 187360, 0: 60847, 3: 40855, 2: 14123, 1: 12818})"
      ]
     },
     "execution_count": 6,
     "metadata": {},
     "output_type": "execute_result"
    }
   ],
   "source": [
    "ratings = [int(d['rating']) for d in dataset]\n",
    "len(ratings)\n",
    "rating_counts = Counter(ratings)\n",
    "uniqueRatings = list(rating_counts.keys())\n",
    "counts = list(rating_counts.values())\n",
    "rating_counts\n"
   ]
  },
  {
   "cell_type": "code",
   "execution_count": 7,
   "metadata": {},
   "outputs": [
    {
     "data": {
      "text/plain": [
       "[16.545872495401227,\n",
       " 72.09358803285507,\n",
       " 5.373434584370615,\n",
       " 1.2472104891788616,\n",
       " 3.6079292314240874,\n",
       " 1.1319651667701371]"
      ]
     },
     "execution_count": 7,
     "metadata": {},
     "output_type": "execute_result"
    }
   ],
   "source": [
    "totalRatings = sum(counts)\n",
    "percentages = [count / totalRatings * 100 for count in counts]\n",
    "percentages"
   ]
  },
  {
   "cell_type": "code",
   "execution_count": 8,
   "metadata": {},
   "outputs": [
    {
     "data": {
      "image/png": "[encoded data removed]",
      "text/plain": [
       "<Figure size 640x480 with 1 Axes>"
      ]
     },
     "metadata": {},
     "output_type": "display_data"
    }
   ],
   "source": [
    "plt.bar(list(rating_counts.keys()), list(rating_counts.values()), color='blue')\n",
    "plt.xlabel('Ratings')\n",
    "plt.ylabel('Number of Ratings')\n",
    "plt.title('Number of ratings per rating.')\n",
    "plt.show()"
   ]
  },
  {
   "cell_type": "code",
   "execution_count": 9,
   "metadata": {},
   "outputs": [],
   "source": [
    "reviewsPerUser = defaultdict(list)\n",
    "numReviewsPerUser = defaultdict(int)\n",
    "reviewsPerRecipe = defaultdict(list)\n",
    "numReviewsPerRecipe = defaultdict(int)\n",
    "ratingsPerUser = defaultdict(list)\n",
    "ratingsPerRecipe = defaultdict(list)\n",
    "averageRatingPerUser = defaultdict(int)\n",
    "averageRatingPerRecipe = defaultdict(int)\n",
    "reviewsPerUserTrain = defaultdict(list)\n",
    "reviewsPerRecipeTrain = defaultdict(list)\n",
    "for d in dataset:\n",
    "    reviewsPerUser[d['user_id']].append(d)\n",
    "    numReviewsPerUser[d['user_id']] += 1\n",
    "    reviewsPerRecipe[d['recipe_id']].append(d)\n",
    "    numReviewsPerRecipe[d['recipe_id']] += 1\n",
    "    ratingsPerUser[d['user_id']].append(int(d['rating']))\n",
    "    ratingsPerRecipe[d['recipe_id']].append(int(d['rating']))\n",
    "for user in ratingsPerUser:\n",
    "    averageRatingPerUser[user] = sum(ratingsPerUser[user]) / len(ratingsPerUser)\n",
    "for recipe in ratingsPerRecipe:\n",
    "    averageRatingPerRecipe[recipe] = sum(ratingsPerRecipe[recipe]) / len(ratingsPerRecipe)"
   ]
  },
  {
   "cell_type": "code",
   "execution_count": 10,
   "metadata": {},
   "outputs": [],
   "source": [
    "globalAverageRatingPerUser = sum(averageRatingPerUser.values()) / len(averageRatingPerUser)\n",
    "globalAverageRatingPerRecipe = sum(averageRatingPerRecipe.values()) / len(averageRatingPerRecipe)"
   ]
  },
  {
   "cell_type": "code",
   "execution_count": 11,
   "metadata": {},
   "outputs": [
    {
     "data": {
      "text/plain": [
       "4.997868208500684"
      ]
     },
     "execution_count": 11,
     "metadata": {},
     "output_type": "execute_result"
    }
   ],
   "source": [
    "averageReviewsPerUser = sum(numReviewsPerUser.values()) / len(numReviewsPerUser)\n",
    "averageReviewsPerUser"
   ]
  },
  {
   "cell_type": "code",
   "execution_count": 12,
   "metadata": {},
   "outputs": [
    {
     "data": {
      "text/plain": [
       "4.888541122532238"
      ]
     },
     "execution_count": 12,
     "metadata": {},
     "output_type": "execute_result"
    }
   ],
   "source": [
    "averageReviewsPerRecipe = sum(numReviewsPerRecipe.values()) / len(numReviewsPerRecipe)\n",
    "averageReviewsPerRecipe"
   ]
  },
  {
   "cell_type": "code",
   "execution_count": 13,
   "metadata": {},
   "outputs": [
    {
     "data": {
      "text/plain": [
       "{1: 109814,\n",
       " 2: 92331,\n",
       " 3: 98245,\n",
       " 4: 93883,\n",
       " 5: 89504,\n",
       " 6: 97027,\n",
       " 7: 91356,\n",
       " 8: 88766,\n",
       " 9: 89063,\n",
       " 10: 95018,\n",
       " 11: 91801,\n",
       " 12: 95559}"
      ]
     },
     "execution_count": 13,
     "metadata": {},
     "output_type": "execute_result"
    }
   ],
   "source": [
    "recipesPerMonth = defaultdict(list)\n",
    "numRecipesPerMonth = defaultdict(int)\n",
    "for d in dataset:\n",
    "    dateString = d['date']\n",
    "    recipeString = d['recipe_id']\n",
    "    temp = datetime.strptime(dateString, '%Y-%m-%d')\n",
    "    month = temp.month\n",
    "    recipesPerMonth[month].append(recipeString)\n",
    "    numRecipesPerMonth[month] += 1\n",
    "numRecipesPerMonth = dict(sorted(numRecipesPerMonth.items()))\n",
    "numRecipesPerMonth\n"
   ]
  },
  {
   "cell_type": "code",
   "execution_count": 14,
   "metadata": {},
   "outputs": [
    {
     "data": {
      "image/png": "[encoded data removed]",
      "text/plain": [
       "<Figure size 640x480 with 1 Axes>"
      ]
     },
     "metadata": {},
     "output_type": "display_data"
    }
   ],
   "source": [
    "plt.bar(list(numRecipesPerMonth.keys()), list(numRecipesPerMonth.values()), color='green')\n",
    "plt.xlabel('Months Jan to Dec')\n",
    "plt.ylabel('Number of Recipes')\n",
    "plt.title('Number of Recipe reviews per month.')\n",
    "plt.show()"
   ]
  },
  {
   "cell_type": "code",
   "execution_count": 15,
   "metadata": {},
   "outputs": [],
   "source": [
    "lengths = [len(d['review']) for d in dataset]\n",
    "ratings = [d['rating'] for d in dataset]\n",
    "ratings = sorted(ratings)"
   ]
  },
  {
   "cell_type": "code",
   "execution_count": 16,
   "metadata": {},
   "outputs": [
    {
     "data": {
      "image/png": "[encoded data removed]",
      "text/plain": [
       "<Figure size 640x480 with 1 Axes>"
      ]
     },
     "metadata": {},
     "output_type": "display_data"
    }
   ],
   "source": [
    "plt.scatter(lengths, ratings, color='grey')\n",
    "plt.xlim(0, 4000)\n",
    "plt.xlabel('Review Length')\n",
    "plt.ylabel('Rating')\n",
    "plt.title('Rating vs Review Length')\n",
    "plt.show()"
   ]
  },
  {
   "cell_type": "code",
   "execution_count": 17,
   "metadata": {},
   "outputs": [],
   "source": [
    "#Part 2"
   ]
  },
  {
   "cell_type": "code",
   "execution_count": 18,
   "metadata": {},
   "outputs": [],
   "source": [
    "ratings = [d['rating'] for d in dataset] #the output we want to predict\n",
    "text = [len(d['review']) for d in dataset] #the feature used for prediction\n",
    "max_length = max(text)"
   ]
  },
  {
   "cell_type": "code",
   "execution_count": 19,
   "metadata": {},
   "outputs": [],
   "source": [
    "dataValid = dataset[int(len(dataset) * 0.50):int(len(dataset) * 0.75)]"
   ]
  },
  {
   "cell_type": "code",
   "execution_count": 20,
   "metadata": {},
   "outputs": [
    {
     "data": {
      "text/plain": [
       "0.7202534864990886"
      ]
     },
     "execution_count": 20,
     "metadata": {},
     "output_type": "execute_result"
    }
   ],
   "source": [
    "correct = []\n",
    "for d in dataValid:\n",
    "    if float(d['rating']) == 5:\n",
    "        correct.append(1)\n",
    "    else:\n",
    "        correct.append(0)\n",
    "sum(correct) / len(correct)"
   ]
  },
  {
   "cell_type": "code",
   "execution_count": 21,
   "metadata": {},
   "outputs": [],
   "source": [
    "dataTrain = dataset[:int(len(dataset) * 0.50)]"
   ]
  },
  {
   "cell_type": "code",
   "execution_count": 22,
   "metadata": {},
   "outputs": [],
   "source": [
    "dataTest = dataset[int(len(dataset) * 0.75):]"
   ]
  },
  {
   "cell_type": "code",
   "execution_count": 23,
   "metadata": {},
   "outputs": [],
   "source": [
    "XTrain = [[1, len(d['review']) / max_length] for d in dataTrain]\n",
    "yTrain = [int(d['rating']) for d in dataTrain]\n",
    "XValid = [[1, len(d['review']) / max_length] for d in dataValid]\n",
    "yValid = [int(d['rating']) for d in dataValid]\n",
    "XTest = [[1, len(d['review']) / max_length] for d in dataTest]\n",
    "yTest = [int(d['rating']) for d in dataTest]\n",
    "\n"
   ]
  },
  {
   "cell_type": "code",
   "execution_count": 24,
   "metadata": {},
   "outputs": [
    {
     "data": {
      "text/html": [
       "<style>#sk-container-id-1 {color: black;}#sk-container-id-1 pre{padding: 0;}#sk-container-id-1 div.sk-toggleable {background-color: white;}#sk-container-id-1 label.sk-toggleable__label {cursor: pointer;display: block;width: 100%;margin-bottom: 0;padding: 0.3em;box-sizing: border-box;text-align: center;}#sk-container-id-1 label.sk-toggleable__label-arrow:before {content: \"▸\";float: left;margin-right: 0.25em;color: #696969;}#sk-container-id-1 label.sk-toggleable__label-arrow:hover:before {color: black;}#sk-container-id-1 div.sk-estimator:hover label.sk-toggleable__label-arrow:before {color: black;}#sk-container-id-1 div.sk-toggleable__content {max-height: 0;max-width: 0;overflow: hidden;text-align: left;background-color: #f0f8ff;}#sk-container-id-1 div.sk-toggleable__content pre {margin: 0.2em;color: black;border-radius: 0.25em;background-color: #f0f8ff;}#sk-container-id-1 input.sk-toggleable__control:checked~div.sk-toggleable__content {max-height: 200px;max-width: 100%;overflow: auto;}#sk-container-id-1 input.sk-toggleable__control:checked~label.sk-toggleable__label-arrow:before {content: \"▾\";}#sk-container-id-1 div.sk-estimator input.sk-toggleable__control:checked~label.sk-toggleable__label {background-color: #d4ebff;}#sk-container-id-1 div.sk-label input.sk-toggleable__control:checked~label.sk-toggleable__label {background-color: #d4ebff;}#sk-container-id-1 input.sk-hidden--visually {border: 0;clip: rect(1px 1px 1px 1px);clip: rect(1px, 1px, 1px, 1px);height: 1px;margin: -1px;overflow: hidden;padding: 0;position: absolute;width: 1px;}#sk-container-id-1 div.sk-estimator {font-family: monospace;background-color: #f0f8ff;border: 1px dotted black;border-radius: 0.25em;box-sizing: border-box;margin-bottom: 0.5em;}#sk-container-id-1 div.sk-estimator:hover {background-color: #d4ebff;}#sk-container-id-1 div.sk-parallel-item::after {content: \"\";width: 100%;border-bottom: 1px solid gray;flex-grow: 1;}#sk-container-id-1 div.sk-label:hover label.sk-toggleable__label {background-color: #d4ebff;}#sk-container-id-1 div.sk-serial::before {content: \"\";position: absolute;border-left: 1px solid gray;box-sizing: border-box;top: 0;bottom: 0;left: 50%;z-index: 0;}#sk-container-id-1 div.sk-serial {display: flex;flex-direction: column;align-items: center;background-color: white;padding-right: 0.2em;padding-left: 0.2em;position: relative;}#sk-container-id-1 div.sk-item {position: relative;z-index: 1;}#sk-container-id-1 div.sk-parallel {display: flex;align-items: stretch;justify-content: center;background-color: white;position: relative;}#sk-container-id-1 div.sk-item::before, #sk-container-id-1 div.sk-parallel-item::before {content: \"\";position: absolute;border-left: 1px solid gray;box-sizing: border-box;top: 0;bottom: 0;left: 50%;z-index: -1;}#sk-container-id-1 div.sk-parallel-item {display: flex;flex-direction: column;z-index: 1;position: relative;background-color: white;}#sk-container-id-1 div.sk-parallel-item:first-child::after {align-self: flex-end;width: 50%;}#sk-container-id-1 div.sk-parallel-item:last-child::after {align-self: flex-start;width: 50%;}#sk-container-id-1 div.sk-parallel-item:only-child::after {width: 0;}#sk-container-id-1 div.sk-dashed-wrapped {border: 1px dashed gray;margin: 0 0.4em 0.5em 0.4em;box-sizing: border-box;padding-bottom: 0.4em;background-color: white;}#sk-container-id-1 div.sk-label label {font-family: monospace;font-weight: bold;display: inline-block;line-height: 1.2em;}#sk-container-id-1 div.sk-label-container {text-align: center;}#sk-container-id-1 div.sk-container {/* jupyter's `normalize.less` sets `[hidden] { display: none; }` but bootstrap.min.css set `[hidden] { display: none !important; }` so we also need the `!important` here to be able to override the default hidden behavior on the sphinx rendered scikit-learn.org. See: https://github.com/scikit-learn/scikit-learn/issues/21755 */display: inline-block !important;position: relative;}#sk-container-id-1 div.sk-text-repr-fallback {display: none;}</style><div id=\"sk-container-id-1\" class=\"sk-top-container\"><div class=\"sk-text-repr-fallback\"><pre>LinearRegression(fit_intercept=False)</pre><b>In a Jupyter environment, please rerun this cell to show the HTML representation or trust the notebook. <br />On GitHub, the HTML representation is unable to render, please try loading this page with nbviewer.org.</b></div><div class=\"sk-container\" hidden><div class=\"sk-item\"><div class=\"sk-estimator sk-toggleable\"><input class=\"sk-toggleable__control sk-hidden--visually\" id=\"sk-estimator-id-1\" type=\"checkbox\" checked><label for=\"sk-estimator-id-1\" class=\"sk-toggleable__label sk-toggleable__label-arrow\">LinearRegression</label><div class=\"sk-toggleable__content\"><pre>LinearRegression(fit_intercept=False)</pre></div></div></div></div></div>"
      ],
      "text/plain": [
       "LinearRegression(fit_intercept=False)"
      ]
     },
     "execution_count": 24,
     "metadata": {},
     "output_type": "execute_result"
    }
   ],
   "source": [
    "mod = linear_model.LinearRegression(fit_intercept=False)\n",
    "mod.fit(XTrain, yTrain)"
   ]
  },
  {
   "cell_type": "code",
   "execution_count": 25,
   "metadata": {},
   "outputs": [],
   "source": [
    "y_pred = mod.predict(XValid)"
   ]
  },
  {
   "cell_type": "code",
   "execution_count": 26,
   "metadata": {},
   "outputs": [
    {
     "name": "stdout",
     "output_type": "stream",
     "text": [
      "1.62315356550237\n"
     ]
    },
    {
     "data": {
      "text/plain": [
       "0.7202534864990886"
      ]
     },
     "execution_count": 26,
     "metadata": {},
     "output_type": "execute_result"
    }
   ],
   "source": [
    "sse = 0\n",
    "for x, y in zip(yValid, y_pred):\n",
    "    sse += (x-y)**2\n",
    "mse = sse / len(yValid)\n",
    "print(mse)\n",
    "correct = []\n",
    "for yP, yV in zip(y_pred, yValid):\n",
    "    if math.ceil(yP) == yV:\n",
    "        correct.append(1)\n",
    "    else:\n",
    "        correct.append(0)\n",
    "sum(correct) / len(correct)"
   ]
  },
  {
   "cell_type": "code",
   "execution_count": 27,
   "metadata": {},
   "outputs": [],
   "source": [
    "def feature(datum):\n",
    "    feat = [0] * 3\n",
    "    feat[0] = 1\n",
    "    feat[1] = len(datum['review']) / max_length\n",
    "    if datum['recipe_id'] in numReviewsPerRecipe:\n",
    "        feat[2] = numReviewsPerRecipe[d['recipe_id']]\n",
    "    else:\n",
    "        feat[2] = averageReviewsPerRecipe\n",
    "    return feat\n"
   ]
  },
  {
   "cell_type": "code",
   "execution_count": 28,
   "metadata": {},
   "outputs": [],
   "source": [
    "XTrain2 = [feature(d) for d in dataTrain]\n",
    "yTrain2 = yTrain\n",
    "XValid2 = [feature(d) for d in dataValid]\n"
   ]
  },
  {
   "cell_type": "code",
   "execution_count": 29,
   "metadata": {},
   "outputs": [
    {
     "data": {
      "text/html": [
       "<style>#sk-container-id-2 {color: black;}#sk-container-id-2 pre{padding: 0;}#sk-container-id-2 div.sk-toggleable {background-color: white;}#sk-container-id-2 label.sk-toggleable__label {cursor: pointer;display: block;width: 100%;margin-bottom: 0;padding: 0.3em;box-sizing: border-box;text-align: center;}#sk-container-id-2 label.sk-toggleable__label-arrow:before {content: \"▸\";float: left;margin-right: 0.25em;color: #696969;}#sk-container-id-2 label.sk-toggleable__label-arrow:hover:before {color: black;}#sk-container-id-2 div.sk-estimator:hover label.sk-toggleable__label-arrow:before {color: black;}#sk-container-id-2 div.sk-toggleable__content {max-height: 0;max-width: 0;overflow: hidden;text-align: left;background-color: #f0f8ff;}#sk-container-id-2 div.sk-toggleable__content pre {margin: 0.2em;color: black;border-radius: 0.25em;background-color: #f0f8ff;}#sk-container-id-2 input.sk-toggleable__control:checked~div.sk-toggleable__content {max-height: 200px;max-width: 100%;overflow: auto;}#sk-container-id-2 input.sk-toggleable__control:checked~label.sk-toggleable__label-arrow:before {content: \"▾\";}#sk-container-id-2 div.sk-estimator input.sk-toggleable__control:checked~label.sk-toggleable__label {background-color: #d4ebff;}#sk-container-id-2 div.sk-label input.sk-toggleable__control:checked~label.sk-toggleable__label {background-color: #d4ebff;}#sk-container-id-2 input.sk-hidden--visually {border: 0;clip: rect(1px 1px 1px 1px);clip: rect(1px, 1px, 1px, 1px);height: 1px;margin: -1px;overflow: hidden;padding: 0;position: absolute;width: 1px;}#sk-container-id-2 div.sk-estimator {font-family: monospace;background-color: #f0f8ff;border: 1px dotted black;border-radius: 0.25em;box-sizing: border-box;margin-bottom: 0.5em;}#sk-container-id-2 div.sk-estimator:hover {background-color: #d4ebff;}#sk-container-id-2 div.sk-parallel-item::after {content: \"\";width: 100%;border-bottom: 1px solid gray;flex-grow: 1;}#sk-container-id-2 div.sk-label:hover label.sk-toggleable__label {background-color: #d4ebff;}#sk-container-id-2 div.sk-serial::before {content: \"\";position: absolute;border-left: 1px solid gray;box-sizing: border-box;top: 0;bottom: 0;left: 50%;z-index: 0;}#sk-container-id-2 div.sk-serial {display: flex;flex-direction: column;align-items: center;background-color: white;padding-right: 0.2em;padding-left: 0.2em;position: relative;}#sk-container-id-2 div.sk-item {position: relative;z-index: 1;}#sk-container-id-2 div.sk-parallel {display: flex;align-items: stretch;justify-content: center;background-color: white;position: relative;}#sk-container-id-2 div.sk-item::before, #sk-container-id-2 div.sk-parallel-item::before {content: \"\";position: absolute;border-left: 1px solid gray;box-sizing: border-box;top: 0;bottom: 0;left: 50%;z-index: -1;}#sk-container-id-2 div.sk-parallel-item {display: flex;flex-direction: column;z-index: 1;position: relative;background-color: white;}#sk-container-id-2 div.sk-parallel-item:first-child::after {align-self: flex-end;width: 50%;}#sk-container-id-2 div.sk-parallel-item:last-child::after {align-self: flex-start;width: 50%;}#sk-container-id-2 div.sk-parallel-item:only-child::after {width: 0;}#sk-container-id-2 div.sk-dashed-wrapped {border: 1px dashed gray;margin: 0 0.4em 0.5em 0.4em;box-sizing: border-box;padding-bottom: 0.4em;background-color: white;}#sk-container-id-2 div.sk-label label {font-family: monospace;font-weight: bold;display: inline-block;line-height: 1.2em;}#sk-container-id-2 div.sk-label-container {text-align: center;}#sk-container-id-2 div.sk-container {/* jupyter's `normalize.less` sets `[hidden] { display: none; }` but bootstrap.min.css set `[hidden] { display: none !important; }` so we also need the `!important` here to be able to override the default hidden behavior on the sphinx rendered scikit-learn.org. See: https://github.com/scikit-learn/scikit-learn/issues/21755 */display: inline-block !important;position: relative;}#sk-container-id-2 div.sk-text-repr-fallback {display: none;}</style><div id=\"sk-container-id-2\" class=\"sk-top-container\"><div class=\"sk-text-repr-fallback\"><pre>LinearRegression(fit_intercept=False)</pre><b>In a Jupyter environment, please rerun this cell to show the HTML representation or trust the notebook. <br />On GitHub, the HTML representation is unable to render, please try loading this page with nbviewer.org.</b></div><div class=\"sk-container\" hidden><div class=\"sk-item\"><div class=\"sk-estimator sk-toggleable\"><input class=\"sk-toggleable__control sk-hidden--visually\" id=\"sk-estimator-id-2\" type=\"checkbox\" checked><label for=\"sk-estimator-id-2\" class=\"sk-toggleable__label sk-toggleable__label-arrow\">LinearRegression</label><div class=\"sk-toggleable__content\"><pre>LinearRegression(fit_intercept=False)</pre></div></div></div></div></div>"
      ],
      "text/plain": [
       "LinearRegression(fit_intercept=False)"
      ]
     },
     "execution_count": 29,
     "metadata": {},
     "output_type": "execute_result"
    }
   ],
   "source": [
    "model = linear_model.LinearRegression(fit_intercept=False)\n",
    "model.fit(XTrain2, yTrain2)"
   ]
  },
  {
   "cell_type": "code",
   "execution_count": 30,
   "metadata": {},
   "outputs": [],
   "source": [
    "y_pred2 = model.predict(XValid2)"
   ]
  },
  {
   "cell_type": "code",
   "execution_count": 31,
   "metadata": {},
   "outputs": [
    {
     "name": "stdout",
     "output_type": "stream",
     "text": [
      "1.6231614754043284\n"
     ]
    },
    {
     "data": {
      "text/plain": [
       "0.7202534864990886"
      ]
     },
     "execution_count": 31,
     "metadata": {},
     "output_type": "execute_result"
    }
   ],
   "source": [
    "sse = 0\n",
    "for x, y in zip(yValid, y_pred2):\n",
    "    sse += (x-y)**2\n",
    "mse2 = sse / len(yValid)\n",
    "print(mse2)\n",
    "correct = []\n",
    "for yP, yV in zip(y_pred2, yValid):\n",
    "    if math.ceil(yP) == yV:\n",
    "        correct.append(1)\n",
    "    else:\n",
    "        correct.append(0)\n",
    "sum(correct) / len(correct)"
   ]
  },
  {
   "cell_type": "code",
   "execution_count": 32,
   "metadata": {},
   "outputs": [],
   "source": [
    "def feature2(datum):\n",
    "    feat = [0] * 4\n",
    "    feat[0] = 1\n",
    "    feat[1] = len(datum['review']) / max_length\n",
    "    if datum['recipe_id'] in numReviewsPerRecipe:\n",
    "        feat[2] = numReviewsPerRecipe[d['recipe_id']]\n",
    "    else:\n",
    "        feat[2] = averageReviewsPerRecipe\n",
    "    if datum['user_id'] in numReviewsPerUser:\n",
    "        feat[3] = numReviewsPerUser[d['user_id']]\n",
    "    else:\n",
    "        feat[3] = averageReviewsPerUser\n",
    "    return feat\n"
   ]
  },
  {
   "cell_type": "code",
   "execution_count": 33,
   "metadata": {},
   "outputs": [],
   "source": [
    "XTrain3 = [feature2(d) for d in dataTrain]\n",
    "yTrain3 = yTrain\n",
    "XValid3 = [feature2(d) for d in dataValid]\n"
   ]
  },
  {
   "cell_type": "code",
   "execution_count": 34,
   "metadata": {},
   "outputs": [
    {
     "data": {
      "text/html": [
       "<style>#sk-container-id-3 {color: black;}#sk-container-id-3 pre{padding: 0;}#sk-container-id-3 div.sk-toggleable {background-color: white;}#sk-container-id-3 label.sk-toggleable__label {cursor: pointer;display: block;width: 100%;margin-bottom: 0;padding: 0.3em;box-sizing: border-box;text-align: center;}#sk-container-id-3 label.sk-toggleable__label-arrow:before {content: \"▸\";float: left;margin-right: 0.25em;color: #696969;}#sk-container-id-3 label.sk-toggleable__label-arrow:hover:before {color: black;}#sk-container-id-3 div.sk-estimator:hover label.sk-toggleable__label-arrow:before {color: black;}#sk-container-id-3 div.sk-toggleable__content {max-height: 0;max-width: 0;overflow: hidden;text-align: left;background-color: #f0f8ff;}#sk-container-id-3 div.sk-toggleable__content pre {margin: 0.2em;color: black;border-radius: 0.25em;background-color: #f0f8ff;}#sk-container-id-3 input.sk-toggleable__control:checked~div.sk-toggleable__content {max-height: 200px;max-width: 100%;overflow: auto;}#sk-container-id-3 input.sk-toggleable__control:checked~label.sk-toggleable__label-arrow:before {content: \"▾\";}#sk-container-id-3 div.sk-estimator input.sk-toggleable__control:checked~label.sk-toggleable__label {background-color: #d4ebff;}#sk-container-id-3 div.sk-label input.sk-toggleable__control:checked~label.sk-toggleable__label {background-color: #d4ebff;}#sk-container-id-3 input.sk-hidden--visually {border: 0;clip: rect(1px 1px 1px 1px);clip: rect(1px, 1px, 1px, 1px);height: 1px;margin: -1px;overflow: hidden;padding: 0;position: absolute;width: 1px;}#sk-container-id-3 div.sk-estimator {font-family: monospace;background-color: #f0f8ff;border: 1px dotted black;border-radius: 0.25em;box-sizing: border-box;margin-bottom: 0.5em;}#sk-container-id-3 div.sk-estimator:hover {background-color: #d4ebff;}#sk-container-id-3 div.sk-parallel-item::after {content: \"\";width: 100%;border-bottom: 1px solid gray;flex-grow: 1;}#sk-container-id-3 div.sk-label:hover label.sk-toggleable__label {background-color: #d4ebff;}#sk-container-id-3 div.sk-serial::before {content: \"\";position: absolute;border-left: 1px solid gray;box-sizing: border-box;top: 0;bottom: 0;left: 50%;z-index: 0;}#sk-container-id-3 div.sk-serial {display: flex;flex-direction: column;align-items: center;background-color: white;padding-right: 0.2em;padding-left: 0.2em;position: relative;}#sk-container-id-3 div.sk-item {position: relative;z-index: 1;}#sk-container-id-3 div.sk-parallel {display: flex;align-items: stretch;justify-content: center;background-color: white;position: relative;}#sk-container-id-3 div.sk-item::before, #sk-container-id-3 div.sk-parallel-item::before {content: \"\";position: absolute;border-left: 1px solid gray;box-sizing: border-box;top: 0;bottom: 0;left: 50%;z-index: -1;}#sk-container-id-3 div.sk-parallel-item {display: flex;flex-direction: column;z-index: 1;position: relative;background-color: white;}#sk-container-id-3 div.sk-parallel-item:first-child::after {align-self: flex-end;width: 50%;}#sk-container-id-3 div.sk-parallel-item:last-child::after {align-self: flex-start;width: 50%;}#sk-container-id-3 div.sk-parallel-item:only-child::after {width: 0;}#sk-container-id-3 div.sk-dashed-wrapped {border: 1px dashed gray;margin: 0 0.4em 0.5em 0.4em;box-sizing: border-box;padding-bottom: 0.4em;background-color: white;}#sk-container-id-3 div.sk-label label {font-family: monospace;font-weight: bold;display: inline-block;line-height: 1.2em;}#sk-container-id-3 div.sk-label-container {text-align: center;}#sk-container-id-3 div.sk-container {/* jupyter's `normalize.less` sets `[hidden] { display: none; }` but bootstrap.min.css set `[hidden] { display: none !important; }` so we also need the `!important` here to be able to override the default hidden behavior on the sphinx rendered scikit-learn.org. See: https://github.com/scikit-learn/scikit-learn/issues/21755 */display: inline-block !important;position: relative;}#sk-container-id-3 div.sk-text-repr-fallback {display: none;}</style><div id=\"sk-container-id-3\" class=\"sk-top-container\"><div class=\"sk-text-repr-fallback\"><pre>LinearRegression(fit_intercept=False)</pre><b>In a Jupyter environment, please rerun this cell to show the HTML representation or trust the notebook. <br />On GitHub, the HTML representation is unable to render, please try loading this page with nbviewer.org.</b></div><div class=\"sk-container\" hidden><div class=\"sk-item\"><div class=\"sk-estimator sk-toggleable\"><input class=\"sk-toggleable__control sk-hidden--visually\" id=\"sk-estimator-id-3\" type=\"checkbox\" checked><label for=\"sk-estimator-id-3\" class=\"sk-toggleable__label sk-toggleable__label-arrow\">LinearRegression</label><div class=\"sk-toggleable__content\"><pre>LinearRegression(fit_intercept=False)</pre></div></div></div></div></div>"
      ],
      "text/plain": [
       "LinearRegression(fit_intercept=False)"
      ]
     },
     "execution_count": 34,
     "metadata": {},
     "output_type": "execute_result"
    }
   ],
   "source": [
    "model = linear_model.LinearRegression(fit_intercept=False)\n",
    "model.fit(XTrain3, yTrain3)"
   ]
  },
  {
   "cell_type": "code",
   "execution_count": 35,
   "metadata": {},
   "outputs": [],
   "source": [
    "y_pred3 = model.predict(XValid3)"
   ]
  },
  {
   "cell_type": "code",
   "execution_count": 36,
   "metadata": {},
   "outputs": [
    {
     "name": "stdout",
     "output_type": "stream",
     "text": [
      "1.6231614802857237\n"
     ]
    },
    {
     "data": {
      "text/plain": [
       "0.7202534864990886"
      ]
     },
     "execution_count": 36,
     "metadata": {},
     "output_type": "execute_result"
    }
   ],
   "source": [
    "sse = 0\n",
    "for x, y in zip(yValid, y_pred3):\n",
    "    sse += (x-y)**2\n",
    "mse3 = sse / len(yValid)\n",
    "print(mse3)\n",
    "correct = []\n",
    "for yP, yV in zip(y_pred3, yValid):\n",
    "    if math.ceil(yP) == yV:\n",
    "        correct.append(1)\n",
    "    else:\n",
    "        correct.append(0)\n",
    "sum(correct) / len(correct)"
   ]
  },
  {
   "cell_type": "code",
   "execution_count": 37,
   "metadata": {},
   "outputs": [],
   "source": [
    "def feature3(datum):\n",
    "    feat = [0] * 4\n",
    "    feat[0] = 1\n",
    "    feat[1] = len(datum['review']) / max_length\n",
    "    if datum['user_id'] in averageRatingPerUser:\n",
    "        feat[2] = averageRatingPerUser[datum['user_id']]\n",
    "    else:\n",
    "        feat[2] = globalAverageRatingPerUser\n",
    "    if datum['recipe_id'] in averageRatingPerUser:\n",
    "        feat[3] = averageRatingPerRecipe[datum['recipe_id']]\n",
    "    else:\n",
    "        feat[3] = globalAverageRatingPerRecipe\n",
    "    return feat\n"
   ]
  },
  {
   "cell_type": "code",
   "execution_count": 38,
   "metadata": {},
   "outputs": [],
   "source": [
    "XTrain4 = [feature3(d) for d in dataTrain]\n",
    "yTrain4 = yTrain\n",
    "XValid4 = [feature3(d) for d in dataValid]\n"
   ]
  },
  {
   "cell_type": "code",
   "execution_count": 39,
   "metadata": {},
   "outputs": [],
   "source": [
    "model4 = linear_model.LinearRegression(fit_intercept=False)\n",
    "model4.fit(XTrain4, yTrain4)\n",
    "y_pred4 = model4.predict(XValid4)"
   ]
  },
  {
   "cell_type": "code",
   "execution_count": 40,
   "metadata": {},
   "outputs": [
    {
     "name": "stdout",
     "output_type": "stream",
     "text": [
      "1.6007815409858128\n"
     ]
    },
    {
     "data": {
      "text/plain": [
       "0.7084869936275133"
      ]
     },
     "execution_count": 40,
     "metadata": {},
     "output_type": "execute_result"
    }
   ],
   "source": [
    "sse = 0\n",
    "for x, y in zip(yValid, y_pred4):\n",
    "    sse += (x-y)**2\n",
    "mse4 = sse / len(yValid)\n",
    "print(mse4)\n",
    "correct = []\n",
    "for yP, yV in zip(y_pred4, yValid):\n",
    "    if math.ceil(yP) == yV:\n",
    "        correct.append(1)\n",
    "    else:\n",
    "        correct.append(0)\n",
    "sum(correct) / len(correct)"
   ]
  },
  {
   "cell_type": "code",
   "execution_count": 41,
   "metadata": {},
   "outputs": [],
   "source": [
    "def feature4(datum):\n",
    "    feat = [0] * 4\n",
    "    feat[0] = 1\n",
    "    feat[1] = len(datum['review']) / max_length\n",
    "    if datum['user_id'] in averageRatingPerUser:\n",
    "        feat[2] = averageRatingPerUser[datum['user_id']] > 4\n",
    "    else:\n",
    "        feat[2] = 0\n",
    "    if datum['recipe_id'] in averageRatingPerUser:\n",
    "        feat[3] = averageRatingPerRecipe[datum['recipe_id']] > 4\n",
    "    else:\n",
    "        feat[3] = 0\n",
    "    return feat\n"
   ]
  },
  {
   "cell_type": "code",
   "execution_count": 42,
   "metadata": {},
   "outputs": [],
   "source": [
    "XTrain5 = [feature4(d) for d in dataTrain]\n",
    "yTrain5 = yTrain\n",
    "XValid5 = [feature4(d) for d in dataValid]\n"
   ]
  },
  {
   "cell_type": "code",
   "execution_count": 43,
   "metadata": {},
   "outputs": [],
   "source": [
    "model5 = linear_model.LinearRegression(fit_intercept=False)\n",
    "model5.fit(XTrain5, yTrain5)\n",
    "y_pred5 = model5.predict(XValid5)"
   ]
  },
  {
   "cell_type": "code",
   "execution_count": 44,
   "metadata": {},
   "outputs": [
    {
     "name": "stdout",
     "output_type": "stream",
     "text": [
      "1.62315356550237\n"
     ]
    },
    {
     "data": {
      "text/plain": [
       "0.7202534864990886"
      ]
     },
     "execution_count": 44,
     "metadata": {},
     "output_type": "execute_result"
    }
   ],
   "source": [
    "sse = 0\n",
    "for x, y in zip(yValid, y_pred5):\n",
    "    sse += (x-y)**2\n",
    "mse5 = sse / len(yValid)\n",
    "print(mse5)\n",
    "correct = []\n",
    "for yP, yV in zip(y_pred5, yValid):\n",
    "    if math.ceil(yP) == yV:\n",
    "        correct.append(1)\n",
    "    else:\n",
    "        correct.append(0)\n",
    "sum(correct) / len(correct)"
   ]
  },
  {
   "cell_type": "code",
   "execution_count": 45,
   "metadata": {},
   "outputs": [],
   "source": [
    "recipeDataset = []\n",
    "with open('../assignment2data/archive/RAW_recipes.csv', 'r') as file:\n",
    "    reader = csv.DictReader(file)\n",
    "    for line in reader:\n",
    "        recipeDataset.append(line)"
   ]
  },
  {
   "cell_type": "code",
   "execution_count": 46,
   "metadata": {},
   "outputs": [
    {
     "data": {
      "text/plain": [
       "9.7654994668382"
      ]
     },
     "execution_count": 46,
     "metadata": {},
     "output_type": "execute_result"
    }
   ],
   "source": [
    "recipeDict = {}\n",
    "stepsPerRecipe = {}\n",
    "for r in recipeDataset:\n",
    "    recipeDict[r['id']] = r\n",
    "for r in recipeDataset:\n",
    "    stepsPerRecipe[r['id']] = int(r['n_steps'])\n",
    "averageNumStepsPerRecipe = sum(stepsPerRecipe.values()) / len(stepsPerRecipe)\n",
    "averageNumStepsPerRecipe"
   ]
  },
  {
   "cell_type": "code",
   "execution_count": 47,
   "metadata": {},
   "outputs": [
    {
     "data": {
      "text/plain": [
       "{'name': 'arriba   baked winter squash mexican style',\n",
       " 'id': '137739',\n",
       " 'minutes': '55',\n",
       " 'contributor_id': '47892',\n",
       " 'submitted': '2005-09-16',\n",
       " 'tags': \"['60-minutes-or-less', 'time-to-make', 'course', 'main-ingredient', 'cuisine', 'preparation', 'occasion', 'north-american', 'side-dishes', 'vegetables', 'mexican', 'easy', 'fall', 'holiday-event', 'vegetarian', 'winter', 'dietary', 'christmas', 'seasonal', 'squash']\",\n",
       " 'nutrition': '[51.5, 0.0, 13.0, 0.0, 2.0, 0.0, 4.0]',\n",
       " 'n_steps': '11',\n",
       " 'steps': \"['make a choice and proceed with recipe', 'depending on size of squash , cut into half or fourths', 'remove seeds', 'for spicy squash , drizzle olive oil or melted butter over each cut squash piece', 'season with mexican seasoning mix ii', 'for sweet squash , drizzle melted honey , butter , grated piloncillo over each cut squash piece', 'season with sweet mexican spice mix', 'bake at 350 degrees , again depending on size , for 40 minutes up to an hour , until a fork can easily pierce the skin', 'be careful not to burn the squash especially if you opt to use sugar or butter', 'if you feel more comfortable , cover the squash with aluminum foil the first half hour , give or take , of baking', 'if desired , season with salt']\",\n",
       " 'description': 'autumn is my favorite time of year to cook! this recipe \\ncan be prepared either spicy or sweet, your choice!\\ntwo of my posted mexican-inspired seasoning mix recipes are offered as suggestions.',\n",
       " 'ingredients': \"['winter squash', 'mexican seasoning', 'mixed spice', 'honey', 'butter', 'olive oil', 'salt']\",\n",
       " 'n_ingredients': '7'}"
      ]
     },
     "execution_count": 47,
     "metadata": {},
     "output_type": "execute_result"
    }
   ],
   "source": [
    "recipeDataset[0]"
   ]
  },
  {
   "cell_type": "code",
   "execution_count": 48,
   "metadata": {},
   "outputs": [],
   "source": [
    "def feature5(datum):\n",
    "    feat = [0] * 2\n",
    "    recipeID = datum['recipe_id']\n",
    "    feat[0] = 1\n",
    "    feat[1] = int(recipeDict[recipeID]['n_steps'])\n",
    "    \n",
    "    return feat\n"
   ]
  },
  {
   "cell_type": "code",
   "execution_count": 49,
   "metadata": {},
   "outputs": [],
   "source": [
    "XTrain6 = [feature5(d) for d in dataTrain]\n",
    "yTrain6 = yTrain\n",
    "XValid6 = [feature5(d) for d in dataValid]\n"
   ]
  },
  {
   "cell_type": "code",
   "execution_count": 50,
   "metadata": {},
   "outputs": [],
   "source": [
    "model6 = linear_model.LinearRegression(fit_intercept=False)\n",
    "model6.fit(XTrain6, yTrain6)\n",
    "y_pred6 = model6.predict(XValid6)"
   ]
  },
  {
   "cell_type": "code",
   "execution_count": 51,
   "metadata": {},
   "outputs": [
    {
     "name": "stdout",
     "output_type": "stream",
     "text": [
      "1.622813309986054\n"
     ]
    },
    {
     "data": {
      "text/plain": [
       "0.7202464216579769"
      ]
     },
     "execution_count": 51,
     "metadata": {},
     "output_type": "execute_result"
    }
   ],
   "source": [
    "sse = 0\n",
    "for x, y in zip(yValid, y_pred6):\n",
    "    sse += (x-y)**2\n",
    "mse6 = sse / len(yValid)\n",
    "print(mse6)\n",
    "correct = []\n",
    "for yP, yV in zip(y_pred6, yValid):\n",
    "    if math.ceil(yP) == yV:\n",
    "        correct.append(1)\n",
    "    else:\n",
    "        correct.append(0)\n",
    "sum(correct) / len(correct)"
   ]
  },
  {
   "cell_type": "code",
   "execution_count": 52,
   "metadata": {},
   "outputs": [],
   "source": [
    "def feature6(datum):\n",
    "    feat = [0] * 4\n",
    "    recipeID = datum['recipe_id']\n",
    "    feat[0] = 1\n",
    "    feat[1] = int(recipeDict[recipeID]['n_steps'])\n",
    "    feat[2] = int(recipeDict[recipeID]['minutes'])\n",
    "    feat[3] = int(recipeDict[recipeID]['n_ingredients'])\n",
    "    \n",
    "    return feat\n"
   ]
  },
  {
   "cell_type": "code",
   "execution_count": 53,
   "metadata": {},
   "outputs": [],
   "source": [
    "XTrain7 = [feature6(d) for d in dataTrain]\n",
    "yTrain7 = yTrain\n",
    "XValid7 = [feature6(d) for d in dataValid]\n"
   ]
  },
  {
   "cell_type": "code",
   "execution_count": 54,
   "metadata": {},
   "outputs": [],
   "source": [
    "model7 = linear_model.LinearRegression(fit_intercept=False)\n",
    "model7.fit(XTrain7, yTrain7)\n",
    "y_pred7 = model7.predict(XValid7)"
   ]
  },
  {
   "cell_type": "code",
   "execution_count": 55,
   "metadata": {},
   "outputs": [
    {
     "name": "stdout",
     "output_type": "stream",
     "text": [
      "1.6227943012588306\n"
     ]
    },
    {
     "data": {
      "text/plain": [
       "0.7202464216579769"
      ]
     },
     "execution_count": 55,
     "metadata": {},
     "output_type": "execute_result"
    }
   ],
   "source": [
    "sse = 0\n",
    "for x, y in zip(yValid, y_pred7):\n",
    "    sse += (x-y)**2\n",
    "mse7 = sse / len(yValid)\n",
    "print(mse7)\n",
    "correct = []\n",
    "for yP, yV in zip(y_pred7, yValid):\n",
    "    if math.ceil(yP) == yV:\n",
    "        correct.append(1)\n",
    "    else:\n",
    "        correct.append(0)\n",
    "sum(correct) / len(correct)"
   ]
  },
  {
   "cell_type": "code",
   "execution_count": 68,
   "metadata": {},
   "outputs": [],
   "source": [
    "betaU = {}\n",
    "betaI = {}\n",
    "def resetBetas():\n",
    "    for u in ratingsPerUser:\n",
    "        betaU[u] = 0\n",
    "    for i in ratingsPerRecipe:\n",
    "        betaI[i] = 0"
   ]
  },
  {
   "cell_type": "code",
   "execution_count": 69,
   "metadata": {},
   "outputs": [],
   "source": [
    "dataTrain[0]\n",
    "globalRatingAverage = sum(int(d['rating']) for d in dataTrain) / len(dataTrain)\n",
    "alpha = globalRatingAverage"
   ]
  },
  {
   "cell_type": "code",
   "execution_count": 70,
   "metadata": {},
   "outputs": [],
   "source": [
    "for d in dataTrain:\n",
    "    reviewsPerUserTrain[d['user_id']].append(d)\n",
    "    reviewsPerRecipeTrain[d['recipe_id']].append(d)"
   ]
  },
  {
   "cell_type": "code",
   "execution_count": 59,
   "metadata": {},
   "outputs": [
    {
     "data": {
      "text/plain": [
       "{'user_id': '38094',\n",
       " 'recipe_id': '40893',\n",
       " 'date': '2003-02-17',\n",
       " 'rating': '4',\n",
       " 'review': 'Great with a salad. Cooked on top of stove for 15 minutes.Added a shake of cayenne and a pinch of salt.  Used low fat sour cream.  Thanks.'}"
      ]
     },
     "execution_count": 59,
     "metadata": {},
     "output_type": "execute_result"
    }
   ],
   "source": [
    "dataTrain[0]"
   ]
  },
  {
   "cell_type": "code",
   "execution_count": 71,
   "metadata": {},
   "outputs": [],
   "source": [
    "def iterate(lamb, N):\n",
    "    resetBetas()\n",
    "    for iter in range(N):\n",
    "        numerAlpha = 0\n",
    "        for d in dataTrain:\n",
    "            numerAlpha += (int(d['rating']) - (betaU[d['user_id']] + betaI[d['recipe_id']]))\n",
    "        alpha = numerAlpha / len(dataTrain)\n",
    "\n",
    "        for u in reviewsPerUser:\n",
    "            numerU = 0\n",
    "            for review in reviewsPerUser[u]:\n",
    "                numerU += (int(review['rating']) - (alpha + betaI[review['recipe_id']]))\n",
    "            betaU[u] = numerU / (lamb + len(ratingsPerUser[u]))\n",
    "        \n",
    "        for g in ratingsPerRecipe:\n",
    "            numerI = 0\n",
    "            for review in reviewsPerRecipe[g]:\n",
    "                numerI += (int(review['rating']) - (alpha + betaU[review['user_id']]))\n",
    "            betaI[g] = numerI / (lamb + len(ratingsPerRecipe[g]))\n",
    "    return alpha"
   ]
  },
  {
   "cell_type": "code",
   "execution_count": 81,
   "metadata": {},
   "outputs": [
    {
     "data": {
      "text/plain": [
       "3.9807979103231426"
      ]
     },
     "execution_count": 81,
     "metadata": {},
     "output_type": "execute_result"
    }
   ],
   "source": [
    "alpha = iterate(1, 25)\n",
    "alpha"
   ]
  },
  {
   "cell_type": "code",
   "execution_count": 66,
   "metadata": {},
   "outputs": [],
   "source": [
    "\n",
    "def MSE(y, ypred):\n",
    "    diff = [(x-y)**2 for x, y in zip(y, ypred)]\n",
    "    return sum(diff) / len(diff)\n",
    "    \n",
    "def prediction(u, g, alpha):\n",
    "    if u in betaU and g in betaI:\n",
    "        return alpha + betaU[u] + betaI[g]\n",
    "    else:\n",
    "        return globalRatingAverage"
   ]
  },
  {
   "cell_type": "code",
   "execution_count": 82,
   "metadata": {},
   "outputs": [
    {
     "data": {
      "text/plain": [
       "0.6907493150881727"
      ]
     },
     "execution_count": 82,
     "metadata": {},
     "output_type": "execute_result"
    }
   ],
   "source": [
    "hoursValidOnly = [int(r['rating']) for r in dataValid]\n",
    "predictions = [prediction(d['user_id'], d['recipe_id'], alpha) for d in dataValid]\n",
    "\n",
    "validMSE = MSE(hoursValidOnly, predictions)\n",
    "validMSE"
   ]
  },
  {
   "cell_type": "code",
   "execution_count": 89,
   "metadata": {},
   "outputs": [
    {
     "data": {
      "text/plain": [
       "179292"
      ]
     },
     "execution_count": 89,
     "metadata": {},
     "output_type": "execute_result"
    }
   ],
   "source": [
    "wordCount = defaultdict(int)\n",
    "punctuation = set(string.punctuation)\n",
    "stemmer = PorterStemmer()\n",
    "for d in dataTrain:\n",
    "    r = ''.join([c for c in d['review'].lower() if not c in punctuation])\n",
    "    for w in r.split():\n",
    "        w = stemmer.stem(w)\n",
    "        wordCount[w] += 1\n",
    "len(wordCount)"
   ]
  },
  {
   "cell_type": "code",
   "execution_count": 91,
   "metadata": {},
   "outputs": [],
   "source": [
    "counts = [(wordCount[w], w) for w in wordCount]\n",
    "counts.sort()\n",
    "counts.reverse()\n",
    "words = [x[1] for x in counts[:1000]]"
   ]
  },
  {
   "cell_type": "code",
   "execution_count": 92,
   "metadata": {},
   "outputs": [],
   "source": [
    "wordId = dict(zip(words, range(len(words))))\n",
    "wordSet = set(words)"
   ]
  },
  {
   "cell_type": "code",
   "execution_count": 94,
   "metadata": {},
   "outputs": [],
   "source": [
    "def feature8(datum):\n",
    "    feat = [0]*len(words)\n",
    "    r = ''.join([c for c in datum['review'].lower() if not c in punctuation])\n",
    "    for w in r.split():\n",
    "        if w in words:\n",
    "            feat[wordId[w]] += 1\n",
    "    feat.append(1) # offset\n",
    "    return feat"
   ]
  },
  {
   "cell_type": "code",
   "execution_count": 95,
   "metadata": {},
   "outputs": [],
   "source": [
    "XTrain8 = [feature8(d) for d in dataTrain]\n",
    "yTrain8 = yTrain\n",
    "XValid8 = [feature8(d) for d in dataValid]"
   ]
  },
  {
   "cell_type": "code",
   "execution_count": 96,
   "metadata": {},
   "outputs": [],
   "source": [
    "clf = linear_model.Ridge(1.0, fit_intercept=False) # MSE + 1.0 l2\n",
    "clf.fit(XTrain8, yTrain8)\n",
    "y_pred8 = clf.predict(XValid8)"
   ]
  },
  {
   "cell_type": "code",
   "execution_count": 97,
   "metadata": {},
   "outputs": [
    {
     "name": "stdout",
     "output_type": "stream",
     "text": [
      "1.4284947613629222\n"
     ]
    },
    {
     "data": {
      "text/plain": [
       "0.6449952665564551"
      ]
     },
     "execution_count": 97,
     "metadata": {},
     "output_type": "execute_result"
    }
   ],
   "source": [
    "sse = 0\n",
    "for x, y in zip(yValid, y_pred8):\n",
    "    sse += (x-y)**2\n",
    "mse8 = sse / len(yValid)\n",
    "print(mse8)\n",
    "correct = []\n",
    "for yP, yV in zip(y_pred8, yValid):\n",
    "    if math.ceil(yP) == yV:\n",
    "        correct.append(1)\n",
    "    else:\n",
    "        correct.append(0)\n",
    "sum(correct) / len(correct)"
   ]
  }
 ],
 "metadata": {
  "kernelspec": {
   "display_name": "Python 3.11.5 64-bit",
   "language": "python",
   "name": "python3"
  },
  "language_info": {
   "codemirror_mode": {
    "name": "ipython",
    "version": 3
   },
   "file_extension": ".py",
   "mimetype": "text/x-python",
   "name": "python",
   "nbconvert_exporter": "python",
   "pygments_lexer": "ipython3",
   "version": "3.11.5"
  },
  "orig_nbformat": 4,
  "vscode": {
   "interpreter": {
    "hash": "b0fa6594d8f4cbf19f97940f81e996739fb7646882a419484c72d19e05852a7e"
   }
  }
 },
 "nbformat": 4,
 "nbformat_minor": 2
}
